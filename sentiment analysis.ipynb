{
 "cells": [
  {
   "cell_type": "code",
   "execution_count": 1,
   "id": "73822aee",
   "metadata": {},
   "outputs": [
    {
     "name": "stderr",
     "output_type": "stream",
     "text": [
      "[nltk_data] Downloading package twitter_samples to\n",
      "[nltk_data]     C:\\Users\\pradeep\\AppData\\Roaming\\nltk_data...\n",
      "[nltk_data]   Unzipping corpora\\twitter_samples.zip.\n",
      "[nltk_data] Downloading package stopwords to\n",
      "[nltk_data]     C:\\Users\\pradeep\\AppData\\Roaming\\nltk_data...\n",
      "[nltk_data]   Unzipping corpora\\stopwords.zip.\n",
      "[nltk_data] Downloading package punkt to\n",
      "[nltk_data]     C:\\Users\\pradeep\\AppData\\Roaming\\nltk_data...\n",
      "[nltk_data]   Package punkt is already up-to-date!\n",
      "[nltk_data] Downloading package wordnet to\n",
      "[nltk_data]     C:\\Users\\pradeep\\AppData\\Roaming\\nltk_data...\n",
      "[nltk_data]   Package wordnet is already up-to-date!\n"
     ]
    },
    {
     "data": {
      "text/plain": [
       "True"
      ]
     },
     "execution_count": 1,
     "metadata": {},
     "output_type": "execute_result"
    }
   ],
   "source": [
    "import nltk\n",
    "nltk.download('twitter_samples')\n",
    "nltk.download('stopwords')\n",
    "nltk.download('punkt')\n",
    "nltk.download('wordnet')\n"
   ]
  },
  {
   "cell_type": "code",
   "execution_count": 2,
   "id": "0894b3bc",
   "metadata": {},
   "outputs": [],
   "source": [
    "from nltk.corpus import twitter_samples\n",
    "import random\n",
    "\n",
    "# Load twitter samples dataset\n",
    "positive_tweets = twitter_samples.strings('positive_tweets.json')\n",
    "negative_tweets = twitter_samples.strings('negative_tweets.json')\n",
    "\n",
    "# Combine the datasets and create labels\n",
    "tweets = positive_tweets + negative_tweets\n",
    "labels = ['Positive'] * len(positive_tweets) + ['Negative'] * len(negative_tweets)\n",
    "\n",
    "# Shuffle the dataset\n",
    "combined = list(zip(tweets, labels))\n",
    "random.shuffle(combined)\n",
    "tweets, labels = zip(*combined)\n"
   ]
  },
  {
   "cell_type": "code",
   "execution_count": 3,
   "id": "943d2bcf",
   "metadata": {},
   "outputs": [
    {
     "name": "stdout",
     "output_type": "stream",
     "text": [
      "['NLTK', 'is', 'a', 'powerful', 'library', 'for', 'NLP', '.']\n"
     ]
    }
   ],
   "source": [
    "from nltk.tokenize import word_tokenize\n",
    "\n",
    "sample_text = \"NLTK is a powerful library for NLP.\"\n",
    "tokens = word_tokenize(sample_text)\n",
    "print(tokens)\n"
   ]
  },
  {
   "cell_type": "code",
   "execution_count": 4,
   "id": "e58d54f2",
   "metadata": {},
   "outputs": [
    {
     "name": "stdout",
     "output_type": "stream",
     "text": [
      "['NLTK', 'powerful', 'library', 'NLP', '.']\n"
     ]
    }
   ],
   "source": [
    "from nltk.corpus import stopwords\n",
    "\n",
    "stop_words = set(stopwords.words('english'))\n",
    "\n",
    "def remove_stopwords(tokens):\n",
    "    return [word for word in tokens if word.lower() not in stop_words]\n",
    "\n",
    "filtered_tokens = remove_stopwords(tokens)\n",
    "print(filtered_tokens)\n"
   ]
  },
  {
   "cell_type": "code",
   "execution_count": 5,
   "id": "05127a3b",
   "metadata": {},
   "outputs": [
    {
     "name": "stdout",
     "output_type": "stream",
     "text": [
      "['nltk', 'power', 'librari', 'nlp', '.']\n",
      "['NLTK', 'powerful', 'library', 'NLP', '.']\n"
     ]
    }
   ],
   "source": [
    "from nltk.stem import PorterStemmer\n",
    "from nltk.stem import WordNetLemmatizer\n",
    "\n",
    "stemmer = PorterStemmer()\n",
    "lemmatizer = WordNetLemmatizer()\n",
    "\n",
    "stemmed_tokens = [stemmer.stem(word) for word in filtered_tokens]\n",
    "lemmatized_tokens = [lemmatizer.lemmatize(word) for word in filtered_tokens]\n",
    "print(stemmed_tokens)\n",
    "print(lemmatized_tokens)\n"
   ]
  },
  {
   "cell_type": "code",
   "execution_count": 6,
   "id": "c0e5a01f",
   "metadata": {},
   "outputs": [],
   "source": [
    "from nltk.probability import FreqDist\n",
    "\n",
    "all_words = [word.lower() for tweet in tweets for word in word_tokenize(tweet)]\n",
    "all_words_freq = FreqDist(all_words)\n",
    "\n",
    "# Select the top 2000 words as features\n",
    "word_features = list(all_words_freq.keys())[:2000]\n",
    "\n",
    "def document_features(document):\n",
    "    document_words = set(document)\n",
    "    features = {}\n",
    "    for word in word_features:\n",
    "        features['contains({})'.format(word)] = (word in document_words)\n",
    "    return features\n",
    "\n",
    "# Create feature sets for training and testing\n",
    "feature_sets = [(document_features(word_tokenize(tweet)), label) for (tweet, label) in zip(tweets, labels)]\n",
    "train_set, test_set = feature_sets[1000:], feature_sets[:1000]\n"
   ]
  },
  {
   "cell_type": "code",
   "execution_count": 7,
   "id": "d389b4dc",
   "metadata": {},
   "outputs": [],
   "source": [
    "from nltk.classify import NaiveBayesClassifier\n",
    "\n",
    "classifier = NaiveBayesClassifier.train(train_set)\n"
   ]
  },
  {
   "cell_type": "code",
   "execution_count": 8,
   "id": "5a0c307f",
   "metadata": {},
   "outputs": [
    {
     "name": "stdout",
     "output_type": "stream",
     "text": [
      "Accuracy: 99.70%\n"
     ]
    }
   ],
   "source": [
    "import nltk.classify.util\n",
    "\n",
    "accuracy = nltk.classify.util.accuracy(classifier, test_set)\n",
    "print(f'Accuracy: {accuracy * 100:.2f}%')\n"
   ]
  },
  {
   "cell_type": "code",
   "execution_count": 9,
   "id": "9249711a",
   "metadata": {},
   "outputs": [
    {
     "name": "stdout",
     "output_type": "stream",
     "text": [
      "Most Informative Features\n",
      "             contains()) = True           Positi : Negati =     64.9 : 1.0\n",
      "             contains(() = True           Negati : Positi =     61.9 : 1.0\n",
      "           contains(sad) = True           Negati : Positi =     28.6 : 1.0\n",
      "          contains(miss) = True           Negati : Positi =     19.3 : 1.0\n",
      "       contains(arrived) = True           Positi : Negati =     17.1 : 1.0\n",
      "     contains(community) = True           Positi : Negati =     16.4 : 1.0\n",
      "          contains(blog) = True           Positi : Negati =     15.7 : 1.0\n",
      "          contains(glad) = True           Positi : Negati =     14.4 : 1.0\n",
      "           contains(via) = True           Positi : Negati =     12.1 : 1.0\n",
      "        contains(thanks) = True           Positi : Negati =     11.9 : 1.0\n"
     ]
    }
   ],
   "source": [
    "classifier.show_most_informative_features(10)\n"
   ]
  },
  {
   "cell_type": "code",
   "execution_count": 11,
   "id": "1398f76f",
   "metadata": {},
   "outputs": [
    {
     "name": "stderr",
     "output_type": "stream",
     "text": [
      "[nltk_data] Downloading package vader_lexicon to\n",
      "[nltk_data]     C:\\Users\\pradeep\\AppData\\Roaming\\nltk_data...\n"
     ]
    },
    {
     "name": "stdout",
     "output_type": "stream",
     "text": [
      "{'neg': 0.0, 'neu': 0.577, 'pos': 0.423, 'compound': 0.6588}\n"
     ]
    }
   ],
   "source": [
    "import nltk\n",
    "from nltk.sentiment.vader import SentimentIntensityAnalyzer\n",
    "\n",
    "# Download the VADER lexicon\n",
    "nltk.download('vader_lexicon')\n",
    "\n",
    "# Initialize the sentiment analyzer\n",
    "sid = SentimentIntensityAnalyzer()\n",
    "\n",
    "# Test the analyzer\n",
    "text = \"NLTK is a great library for text processing!\"\n",
    "sentiment_scores = sid.polarity_scores(text)\n",
    "\n",
    "print(sentiment_scores)  # Output sentiment scores\n",
    "\n"
   ]
  },
  {
   "cell_type": "code",
   "execution_count": 12,
   "id": "87797f6a",
   "metadata": {},
   "outputs": [
    {
     "name": "stdout",
     "output_type": "stream",
     "text": [
      "Positive\n"
     ]
    }
   ],
   "source": [
    "# Classifying a new sentence using the trained classifier\n",
    "test_sentence = \"This is an amazing movie!\"\n",
    "test_features = document_features(word_tokenize(test_sentence))\n",
    "classification = classifier.classify(test_features)\n",
    "print(classification)\n"
   ]
  },
  {
   "cell_type": "code",
   "execution_count": 15,
   "id": "b6efc9e4",
   "metadata": {},
   "outputs": [
    {
     "data": {
      "image/png": "[encoded data removed]",
      "text/plain": [
       "<Figure size 576x288 with 1 Axes>"
      ]
     },
     "metadata": {
      "needs_background": "light"
     },
     "output_type": "display_data"
    }
   ],
   "source": [
    "import matplotlib.pyplot as plt\n",
    "import seaborn as sns\n",
    "def plot_sentiment_scores(sentiment_scores):\n",
    "    plt.figure(figsize=(8, 4))\n",
    "    sns.barplot(x=list(sentiment_scores.keys()), y=list(sentiment_scores.values()))\n",
    "    plt.title('Sentiment Scores')\n",
    "    plt.ylabel('Score')\n",
    "    plt.show()\n",
    "\n",
    "plot_sentiment_scores(sentiment_scores)\n"
   ]
  },
  {
   "cell_type": "code",
   "execution_count": 16,
   "id": "f5fe2b74",
   "metadata": {},
   "outputs": [
    {
     "data": {
      "image/png": "[encoded data removed]",
      "text/plain": [
       "<Figure size 576x288 with 1 Axes>"
      ]
     },
     "metadata": {
      "needs_background": "light"
     },
     "output_type": "display_data"
    }
   ],
   "source": [
    "# Visualizing the Sentiment Distribution in the Dataset\n",
    "def plot_sentiment_distribution(labels):\n",
    "    sentiment_dist = FreqDist(labels)\n",
    "    plt.figure(figsize=(8, 4))\n",
    "    sns.barplot(x=list(sentiment_dist.keys()), y=list(sentiment_dist.values()))\n",
    "    plt.title('Sentiment Distribution in Dataset')\n",
    "    plt.ylabel('Number of Tweets')\n",
    "    plt.show()\n",
    "\n",
    "plot_sentiment_distribution(labels)\n"
   ]
  }
 ],
 "metadata": {
  "kernelspec": {
   "display_name": "Python 3 (ipykernel)",
   "language": "python",
   "name": "python3"
  },
  "language_info": {
   "codemirror_mode": {
    "name": "ipython",
    "version": 3
   },
   "file_extension": ".py",
   "mimetype": "text/x-python",
   "name": "python",
   "nbconvert_exporter": "python",
   "pygments_lexer": "ipython3",
   "version": "3.9.7"
  }
 },
 "nbformat": 4,
 "nbformat_minor": 5
}
